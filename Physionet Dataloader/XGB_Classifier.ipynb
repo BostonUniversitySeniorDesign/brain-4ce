{
 "cells": [
  {
   "cell_type": "code",
   "execution_count": 5,
   "metadata": {},
   "outputs": [],
   "source": [
    "import xgboost as xgb\n",
    "from dmatrix2np import dmatrix_to_numpy"
   ]
  },
  {
   "cell_type": "code",
   "execution_count": 8,
   "metadata": {},
   "outputs": [],
   "source": [
    "DATA_PATH = \"C:\\\\Users\\\\shortallb\\\\Documents\\\\brain-4ce\\\\PCA\\\\Data_2D.buffer\"\n",
    "#LABEL_PATH = \n",
    "data = xgb.DMatrix(DATA_PATH)\n",
    "#data = dmatrix_to_numpy(data)"
   ]
  },
  {
   "cell_type": "code",
   "execution_count": 10,
   "metadata": {},
   "outputs": [
    {
     "name": "stdout",
     "output_type": "stream",
     "text": [
      "<bound method DMatrix.get_label of <xgboost.core.DMatrix object at 0x000001BC23D8FC88>>\n"
     ]
    }
   ],
   "source": [
    "print(data.get_label)"
   ]
  }
 ],
 "metadata": {
  "kernelspec": {
   "display_name": "base",
   "language": "python",
   "name": "python3"
  },
  "language_info": {
   "codemirror_mode": {
    "name": "ipython",
    "version": 3
   },
   "file_extension": ".py",
   "mimetype": "text/x-python",
   "name": "python",
   "nbconvert_exporter": "python",
   "pygments_lexer": "ipython3",
   "version": "3.7.4"
  },
  "orig_nbformat": 4
 },
 "nbformat": 4,
 "nbformat_minor": 2
}
