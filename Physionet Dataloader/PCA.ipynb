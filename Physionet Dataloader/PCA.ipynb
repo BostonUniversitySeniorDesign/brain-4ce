{
 "cells": [
  {
   "cell_type": "code",
   "execution_count": 12,
   "metadata": {},
   "outputs": [],
   "source": [
    "from sklearn.decomposition import PCA\n",
    "import numpy as np\n",
    "import pandas as pd"
   ]
  },
  {
   "cell_type": "code",
   "execution_count": 3,
   "metadata": {},
   "outputs": [],
   "source": [
    "X = np.genfromtxt(\"C:\\\\Users\\\\shortallb\\\\Documents\\\\brain-4ce\\\\PCA\\\\Data\\\\data2D.csv\", delimiter=',' )\n",
    "Y = np.genfromtxt(\"C:\\\\Users\\\\shortallb\\\\Documents\\\\brain-4ce\\\\PCA\\\\Data\\\\labels2D.csv\", delimiter=',' )\n",
    "\n",
    "X = np.delete(X, 0, axis = 0)\n",
    "X = np.delete(X, 0, axis = 1)\n",
    "Y = np.delete(Y, 0, axis= 0)\n",
    "Y = np.delete(Y, 0, axis= 1)"
   ]
  },
  {
   "cell_type": "code",
   "execution_count": 9,
   "metadata": {},
   "outputs": [
    {
     "name": "stdout",
     "output_type": "stream",
     "text": [
      "[[-0.02092188 -0.02275902 -0.02115413 ... -0.02391886 -0.02278803\n",
      "  -0.02198004]\n",
      " [ 0.02616721  0.02438805  0.02452739 ... -0.024864   -0.02643225\n",
      "  -0.02487171]\n",
      " [-0.03726472 -0.04419481 -0.02989204 ... -0.03239174 -0.02607007\n",
      "  -0.0194462 ]\n",
      " ...\n",
      " [-0.00857508 -0.01114964 -0.01039263 ...  0.00702915  0.00730781\n",
      "   0.00806747]\n",
      " [-0.01387373 -0.01253598 -0.01298776 ...  0.05457645  0.05441368\n",
      "   0.05485265]\n",
      " [ 0.01085533  0.01691455  0.01614306 ... -0.01737009 -0.01567118\n",
      "  -0.017032  ]]\n"
     ]
    }
   ],
   "source": [
    "pca_model = PCA(n_components=16)\n",
    "pca_model.fit(X)\n"
   ]
  },
  {
   "cell_type": "code",
   "execution_count": 13,
   "metadata": {},
   "outputs": [
    {
     "name": "stdout",
     "output_type": "stream",
     "text": [
      "[[0.02092188 0.02275902 0.02115413 ... 0.02391886 0.02278803 0.02198004]\n",
      " [0.02616721 0.02438805 0.02452739 ... 0.024864   0.02643225 0.02487171]\n",
      " [0.03726472 0.04419481 0.02989204 ... 0.03239174 0.02607007 0.0194462 ]\n",
      " ...\n",
      " [0.00857508 0.01114964 0.01039263 ... 0.00702915 0.00730781 0.00806747]\n",
      " [0.01387373 0.01253598 0.01298776 ... 0.05457645 0.05441368 0.05485265]\n",
      " [0.01085533 0.01691455 0.01614306 ... 0.01737009 0.01567118 0.017032  ]]\n"
     ]
    },
    {
     "ename": "AttributeError",
     "evalue": "module 'pandas' has no attribute 'Dataframe'",
     "output_type": "error",
     "traceback": [
      "\u001b[1;31m---------------------------------------------------------------------------\u001b[0m",
      "\u001b[1;31mAttributeError\u001b[0m                            Traceback (most recent call last)",
      "\u001b[1;32m<ipython-input-13-2bba41bedb52>\u001b[0m in \u001b[0;36m<module>\u001b[1;34m\u001b[0m\n\u001b[0;32m      1\u001b[0m \u001b[0mcomponents\u001b[0m \u001b[1;33m=\u001b[0m \u001b[0mnp\u001b[0m\u001b[1;33m.\u001b[0m\u001b[0mabs\u001b[0m\u001b[1;33m(\u001b[0m\u001b[0mpca_model\u001b[0m\u001b[1;33m.\u001b[0m\u001b[0mcomponents_\u001b[0m\u001b[1;33m)\u001b[0m\u001b[1;33m\u001b[0m\u001b[1;33m\u001b[0m\u001b[0m\n\u001b[0;32m      2\u001b[0m \u001b[0mprint\u001b[0m\u001b[1;33m(\u001b[0m\u001b[0mcomponents\u001b[0m\u001b[1;33m)\u001b[0m\u001b[1;33m\u001b[0m\u001b[1;33m\u001b[0m\u001b[0m\n\u001b[1;32m----> 3\u001b[1;33m \u001b[0mdf\u001b[0m \u001b[1;33m=\u001b[0m \u001b[0mpd\u001b[0m\u001b[1;33m.\u001b[0m\u001b[0mDataframe\u001b[0m\u001b[1;33m(\u001b[0m\u001b[0mcomponents\u001b[0m\u001b[1;33m)\u001b[0m\u001b[1;33m\u001b[0m\u001b[1;33m\u001b[0m\u001b[0m\n\u001b[0m\u001b[0;32m      4\u001b[0m \u001b[0mdf\u001b[0m\u001b[1;33m.\u001b[0m\u001b[0mto_csv\u001b[0m\u001b[1;33m(\u001b[0m\u001b[1;34m'./components.csv'\u001b[0m\u001b[1;33m)\u001b[0m\u001b[1;33m\u001b[0m\u001b[1;33m\u001b[0m\u001b[0m\n",
      "\u001b[1;32mc:\\Users\\shortallb\\AppData\\Local\\Continuum\\anaconda3\\lib\\site-packages\\pandas\\__init__.py\u001b[0m in \u001b[0;36m__getattr__\u001b[1;34m(name)\u001b[0m\n\u001b[0;32m    242\u001b[0m         \u001b[1;32mreturn\u001b[0m \u001b[0m_SparseArray\u001b[0m\u001b[1;33m\u001b[0m\u001b[1;33m\u001b[0m\u001b[0m\n\u001b[0;32m    243\u001b[0m \u001b[1;33m\u001b[0m\u001b[0m\n\u001b[1;32m--> 244\u001b[1;33m     \u001b[1;32mraise\u001b[0m \u001b[0mAttributeError\u001b[0m\u001b[1;33m(\u001b[0m\u001b[1;34mf\"module 'pandas' has no attribute '{name}'\"\u001b[0m\u001b[1;33m)\u001b[0m\u001b[1;33m\u001b[0m\u001b[1;33m\u001b[0m\u001b[0m\n\u001b[0m\u001b[0;32m    245\u001b[0m \u001b[1;33m\u001b[0m\u001b[0m\n\u001b[0;32m    246\u001b[0m \u001b[1;33m\u001b[0m\u001b[0m\n",
      "\u001b[1;31mAttributeError\u001b[0m: module 'pandas' has no attribute 'Dataframe'"
     ]
    }
   ],
   "source": [
    "components = np.abs(pca_model.components_)\n",
    "print(components)\n",
    "df = pd.DataFrame(components)\n",
    "df.to_csv('./components.csv')"
   ]
  },
  {
   "cell_type": "code",
   "execution_count": 10,
   "metadata": {},
   "outputs": [
    {
     "name": "stdout",
     "output_type": "stream",
     "text": [
      "[0.1461237  0.0670762  0.04597314 0.03761013 0.03623062 0.03227721\n",
      " 0.02785695 0.02565661 0.02294777 0.02129045 0.02013076 0.01935738\n",
      " 0.0179193  0.01667681 0.01609171 0.015882  ]\n"
     ]
    }
   ],
   "source": [
    "print(pca_model.explained_variance_ratio_)"
   ]
  }
 ],
 "metadata": {
  "kernelspec": {
   "display_name": "base",
   "language": "python",
   "name": "python3"
  },
  "language_info": {
   "codemirror_mode": {
    "name": "ipython",
    "version": 3
   },
   "file_extension": ".py",
   "mimetype": "text/x-python",
   "name": "python",
   "nbconvert_exporter": "python",
   "pygments_lexer": "ipython3",
   "version": "3.7.4"
  },
  "orig_nbformat": 4
 },
 "nbformat": 4,
 "nbformat_minor": 2
}
