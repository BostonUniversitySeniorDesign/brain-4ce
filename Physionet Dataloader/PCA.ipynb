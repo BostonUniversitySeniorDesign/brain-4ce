{
 "cells": [
  {
   "cell_type": "code",
   "execution_count": 12,
   "metadata": {},
   "outputs": [],
   "source": [
    "from sklearn.decomposition import PCA\n",
    "import numpy as np\n",
    "import pandas as pd"
   ]
  },
  {
   "cell_type": "code",
   "execution_count": 24,
   "metadata": {},
   "outputs": [],
   "source": [
    "# Read CSV for 2D formatted data\n",
    "X = np.genfromtxt(\"C:\\\\Users\\\\shortallb\\\\Documents\\\\brain-4ce\\\\PCA\\\\Data\\\\data2D.csv\", delimiter=',' )\n",
    "Y = np.genfromtxt(\"C:\\\\Users\\\\shortallb\\\\Documents\\\\brain-4ce\\\\PCA\\\\Data\\\\labels2D.csv\", delimiter=',' )\n",
    "\n",
    "X = np.delete(X, 0, axis = 0)\n",
    "X = np.delete(X, 0, axis = 1)\n",
    "Y = np.delete(Y, 0, axis= 0)\n",
    "Y = np.delete(Y, 0, axis= 1)"
   ]
  },
  {
   "cell_type": "code",
   "execution_count": 26,
   "metadata": {},
   "outputs": [
    {
     "data": {
      "text/plain": [
       "PCA(copy=True, iterated_power='auto', n_components=16, random_state=None,\n",
       "    svd_solver='auto', tol=0.0, whiten=False)"
      ]
     },
     "execution_count": 26,
     "metadata": {},
     "output_type": "execute_result"
    }
   ],
   "source": [
    "#Create model and fit\n",
    "pca_model = PCA(n_components=16)\n",
    "pca_model.fit(X)\n"
   ]
  },
  {
   "cell_type": "code",
   "execution_count": 27,
   "metadata": {},
   "outputs": [
    {
     "name": "stdout",
     "output_type": "stream",
     "text": [
      "[[0.10521798 0.10991291 0.11019692 ... 0.04420109 0.0433488  0.03333243]\n",
      " [0.05492596 0.07445771 0.07798844 ... 0.14874532 0.14418666 0.12665297]\n",
      " [0.11251531 0.15750265 0.18502157 ... 0.16689401 0.17733932 0.14276855]\n",
      " ...\n",
      " [0.33772989 0.05724394 0.13707958 ... 0.0257845  0.05127035 0.11030836]\n",
      " [0.08351445 0.01952771 0.01326913 ... 0.06133834 0.05175194 0.05022675]\n",
      " [0.09281708 0.01092927 0.03680234 ... 0.02143745 0.0202902  0.03139266]]\n"
     ]
    }
   ],
   "source": [
    "components = np.abs(pca_model.components_)\n",
    "print(components)\n",
    "df = pd.DataFrame(components)\n",
    "df.to_csv('./components.csv')"
   ]
  },
  {
   "cell_type": "code",
   "execution_count": 34,
   "metadata": {},
   "outputs": [
    {
     "name": "stdout",
     "output_type": "stream",
     "text": [
      "[0.5856463  0.12501438 0.04695842 0.034202   0.02221572 0.01517269\n",
      " 0.01484744 0.01245326 0.01078978 0.00974006 0.00878055 0.00813472\n",
      " 0.00758467 0.00700372 0.00597105 0.00541914]\n",
      "[-0.05492596 -0.07445771 -0.07798844 -0.07291804 -0.07328555 -0.05800724\n",
      " -0.03099931 -0.10204543 -0.11543767 -0.11587794 -0.11009887 -0.11316073\n",
      " -0.10027867 -0.07636948 -0.12112352 -0.13811968 -0.1356633  -0.1342871\n",
      " -0.13165127 -0.13031157 -0.10429212  0.26119403  0.23386911  0.27443902\n",
      "  0.22918714  0.08000474  0.03350201  0.09814611  0.21347876  0.01420686\n",
      "  0.00061676 -0.04338634 -0.03973544 -0.04189943 -0.02637334 -0.02697517\n",
      "  0.03640668  0.06979198 -0.05817593 -0.04377429 -0.1138882  -0.07118745\n",
      " -0.10165229 -0.04630102 -0.11205516 -0.10083956 -0.14606869 -0.15255691\n",
      " -0.15824688 -0.1605867  -0.16062804 -0.15837057 -0.14713793 -0.13399713\n",
      " -0.11897205 -0.15253634 -0.15373239 -0.15662315 -0.14575097 -0.14186236\n",
      " -0.14170126 -0.14874532 -0.14418666 -0.12665297]\n"
     ]
    }
   ],
   "source": [
    "print(pca_model.explained_variance_ratio_)\n",
    "print((pca_model.components_[1]))"
   ]
  },
  {
   "cell_type": "code",
   "execution_count": 47,
   "metadata": {},
   "outputs": [
    {
     "name": "stdout",
     "output_type": "stream",
     "text": [
      "[[44. 64. 55. 60. 62. 63. 61. 56. 46. 59. 54. 57. 48. 58. 47. 42. 21. 43.\n",
      "  53. 50. 49. 45. 52. 51. 15. 20. 19. 17. 18. 12. 16. 13. 11. 10. 14. 41.\n",
      "   8.  9.  5.  4.  3.  6.  2. 40.  1. 34. 39. 35. 36. 32. 33.  7. 27. 38.\n",
      "  30. 37. 31. 26. 28. 29. 23. 24. 22. 25.]]\n"
     ]
    }
   ],
   "source": [
    "# Rank features by importance\n",
    "weighted_arr = np.zeros((1,64))\n",
    "\n",
    "for i in range (0,16):\n",
    "    # Scale the component values by variance ratio\n",
    "    weighted_arr = np.add(weighted_arr, components[i] * pca_model.explained_variance_ratio_[i])\n",
    "# Sort weighted array\n",
    "sorted_ind = np.argsort(weighted_arr)\n",
    "sorted_ind = np.add(sorted_ind, np.ones((1,64)))\n",
    "\n",
    "print(sorted_ind)\n",
    "pd.DataFrame(sorted_ind).to_csv('Channels_Ranked.csv')"
   ]
  }
 ],
 "metadata": {
  "kernelspec": {
   "display_name": "base",
   "language": "python",
   "name": "python3"
  },
  "language_info": {
   "codemirror_mode": {
    "name": "ipython",
    "version": 3
   },
   "file_extension": ".py",
   "mimetype": "text/x-python",
   "name": "python",
   "nbconvert_exporter": "python",
   "pygments_lexer": "ipython3",
   "version": "3.7.4"
  },
  "orig_nbformat": 4
 },
 "nbformat": 4,
 "nbformat_minor": 2
}
